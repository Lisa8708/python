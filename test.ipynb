{
 "cells": [
  {
   "cell_type": "code",
   "execution_count": 3,
   "metadata": {},
   "outputs": [],
   "source": [
    "import pandas as pd\n",
    "import numpy as np"
   ]
  },
  {
   "cell_type": "code",
   "execution_count": 3,
   "metadata": {},
   "outputs": [
    {
     "data": {
      "text/plain": [
       "[1, 9, 7, 1, 9, 5, 8, 7, 9, 0]"
      ]
     },
     "execution_count": 3,
     "metadata": {},
     "output_type": "execute_result"
    }
   ],
   "source": [
    "import random\n",
    "lst = []\n",
    "for i in range(10):\n",
    "    lst.append(random.randint(0,10))\n",
    "lst"
   ]
  },
  {
   "cell_type": "code",
   "execution_count": 9,
   "metadata": {},
   "outputs": [],
   "source": [
    "def topk(lst, k):\n",
    "    new_lst = sorted(lst)\n",
    "    #print(new_lst)\n",
    "    return new_lst[k-1]"
   ]
  },
  {
   "cell_type": "markdown",
   "metadata": {},
   "source": [
    "### 头条地理位置 一面"
   ]
  },
  {
   "cell_type": "code",
   "execution_count": 39,
   "metadata": {},
   "outputs": [],
   "source": [
    "def topk2(lst, k):\n",
    "    n = len(lst)\n",
    "    for left in range(n):\n",
    "        right = n-1\n",
    "        while left < right:\n",
    "            if lst[left] >= lst[right]: \n",
    "                if right == n-1:\n",
    "                    lst = lst[:left] + lst[right:right+1] + lst[left:right]\n",
    "                else:\n",
    "                    lst = lst[:left] + lst[right:right+1] + lst[left:right] + lst[right+1:]\n",
    "                left += 1\n",
    "                \n",
    "            else:\n",
    "                right -= 1\n",
    "            #print(left, right, lst)\n",
    "    return lst[k-1]\n"
   ]
  },
  {
   "cell_type": "code",
   "execution_count": 59,
   "metadata": {},
   "outputs": [
    {
     "name": "stdout",
     "output_type": "stream",
     "text": [
      "[0, 1, 1, 5, 7, 7, 8, 9, 9, 9]\n"
     ]
    },
    {
     "data": {
      "text/plain": [
       "7"
      ]
     },
     "execution_count": 59,
     "metadata": {},
     "output_type": "execute_result"
    }
   ],
   "source": [
    "lst = [1, 9, 7, 1, 9, 5, 8, 7, 9, 0]\n",
    "print(sorted(lst))\n",
    "topk2(lst, 5)"
   ]
  },
  {
   "cell_type": "code",
   "execution_count": null,
   "metadata": {},
   "outputs": [],
   "source": []
  },
  {
   "cell_type": "markdown",
   "metadata": {},
   "source": [
    "### 电信一面"
   ]
  },
  {
   "cell_type": "code",
   "execution_count": 51,
   "metadata": {},
   "outputs": [],
   "source": [
    "import random\n",
    "import numpy as np\n",
    "def wordRepeat(texts, prob):\n",
    "    tokens = texts.split(' ')\n",
    "    text_length = len(tokens)\n",
    "    res = []\n",
    "    for i in range(text_length): \n",
    "        res.append(tokens[i])\n",
    "        if random.random() < prob:\n",
    "            res.append(tokens[i])\n",
    "    return ' '.join(res)"
   ]
  },
  {
   "cell_type": "code",
   "execution_count": 56,
   "metadata": {},
   "outputs": [
    {
     "data": {
      "text/plain": [
       "'a b b c d e f g h i j k l m m n'"
      ]
     },
     "execution_count": 56,
     "metadata": {},
     "output_type": "execute_result"
    }
   ],
   "source": [
    "texts = \"a b c d e f g h i j k l m n\"\n",
    "print(len(texts.split(' ')))\n",
    "print(wordRepeat(texts, 0.1))"
   ]
  },
  {
   "cell_type": "markdown",
   "metadata": {},
   "source": [
    "### test "
   ]
  },
  {
   "cell_type": "code",
   "execution_count": null,
   "metadata": {},
   "outputs": [],
   "source": []
  }
 ],
 "metadata": {
  "interpreter": {
   "hash": "a5bc517bfc1bd2f613815ddb74a2fb2f57ada4bd685731df637838fac40fbedd"
  },
  "kernelspec": {
   "display_name": "Python 3.7.11 ('py37')",
   "language": "python",
   "name": "python3"
  },
  "language_info": {
   "codemirror_mode": {
    "name": "ipython",
    "version": 3
   },
   "file_extension": ".py",
   "mimetype": "text/x-python",
   "name": "python",
   "nbconvert_exporter": "python",
   "pygments_lexer": "ipython3",
   "version": "3.7.11"
  },
  "orig_nbformat": 4
 },
 "nbformat": 4,
 "nbformat_minor": 2
}
